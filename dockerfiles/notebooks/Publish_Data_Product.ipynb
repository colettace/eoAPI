{
 "cells": [
  {
   "cell_type": "markdown",
   "id": "09b769c3-562a-495d-80d3-9eb087b0c62d",
   "metadata": {},
   "source": [
    "# Create a new STAC collection to publish the new data product"
   ]
  },
  {
   "cell_type": "code",
   "execution_count": 1,
   "id": "dd42a13c-a53a-4fbd-b00c-dc8bb6008e57",
   "metadata": {},
   "outputs": [],
   "source": [
    "import requests"
   ]
  },
  {
   "cell_type": "markdown",
   "id": "8fce2e34-fdc2-4b31-94f1-2c002049ea4b",
   "metadata": {},
   "source": [
    "## Step 1: Create a valid STAC/geoJSON item for the collection"
   ]
  },
  {
   "cell_type": "code",
   "execution_count": 2,
   "id": "df7ba95d-3aef-4708-950a-4f36c91fd391",
   "metadata": {},
   "outputs": [],
   "source": [
    "stac_collection_item_json = \"\"\"{\n",
    "  \"id\": \"USGS_Water_Mission_Area_Data_Products_DEMO\",\n",
    "  \"description\": \"This is a STAC collection acting as a folder for USGS Water Mission Area staff to publish data products to the ecosystem\",\n",
    "  \"stac_version\": \"1.0.0\",\n",
    "  \"links\": [\n",
    "    {\n",
    "      \"href\": \"string\",\n",
    "      \"rel\": \"string\",\n",
    "      \"type\": \"image/tiff; application=geotiff\",\n",
    "      \"title\": \"string\",\n",
    "      \"label:assets\": \"string\",\n",
    "      \"additionalProp1\": {}\n",
    "    }\n",
    "  ],\n",
    "  \"stac_extensions\": [],\n",
    "  \"title\": \"USGS Water Mission Area Data Products DEMO\",\n",
    "  \"type\": \"Collection\",\n",
    "  \"assets\": {\n",
    "    \"additionalProp1\": {\n",
    "      \"href\": \"string\",\n",
    "      \"type\": \"string\",\n",
    "      \"title\": \"string\",\n",
    "      \"description\": \"string\",\n",
    "      \"roles\": [\n",
    "        \"data analyst\"\n",
    "      ]\n",
    "    }\n",
    "  },\n",
    "  \"license\": \"Public domain\",\n",
    "  \"extent\": {\n",
    "    \"spatial\": {\n",
    "      \"bbox\": [\n",
    "        [\n",
    "          0,\n",
    "          0\n",
    "        ]\n",
    "      ]\n",
    "    },\n",
    "    \"temporal\": {\n",
    "      \"interval\": [\n",
    "        [\n",
    "          \"2024-08-06 12:00:00\",\n",
    "          null\n",
    "        ]\n",
    "      ]\n",
    "    }\n",
    "  },\n",
    "  \"keywords\": [\n",
    "    \"organizational folder\"\n",
    "  ],\n",
    "  \"providers\": [\n",
    "    {\n",
    "      \"name\": \"USGS water mission area\",\n",
    "      \"description\": \"downstream products go in here\",\n",
    "      \"roles\": [\n",
    "        \"string\"\n",
    "      ],\n",
    "      \"url\": \"string\"\n",
    "    }\n",
    "  ]\n",
    "}\"\"\""
   ]
  },
  {
   "cell_type": "markdown",
   "id": "2b70bb36-9a16-4905-9f11-b20775723180",
   "metadata": {},
   "source": [
    "## Step 2: Test your connection by making a GET request against the stac-fastapi REST API\n",
    "\n",
    "* Here the host name is \"stac-fastapi\" because that's what the service name is defined as in the eoAPI docker-componse.yml"
   ]
  },
  {
   "cell_type": "code",
   "execution_count": 3,
   "id": "7922fd34-094c-4860-a02c-354d2dc38ace",
   "metadata": {},
   "outputs": [
    {
     "name": "stdout",
     "output_type": "stream",
     "text": [
      "{\"collections\":[{\"id\":\"USGS 3DEP LiDAR Point Clouds\",\"type\":\"Catalog\",\"links\":[{\"rel\":\"items\",\"type\":\"application/geo+json\",\"href\":\"http://stac-fastapi:8081/collections/USGS 3DEP LiDAR Point Clouds/items\"},{\"rel\":\"parent\",\"type\":\"application/json\",\"href\":\"http://stac-fastapi:8081/\"},{\"rel\":\"root\",\"type\":\"application/json\",\"href\":\"http://stac-fastapi:8081/\"},{\"rel\":\"self\",\"type\":\"application/json\",\"href\":\"http://stac-fastapi:8081/collections/USGS 3DEP LiDAR Point Clouds\"}],\"description\":\"A catalog of USGS 3DEP Lidar hosted on AWS s3.\",\"stac_version\":\"1.0.0\",\"stac_extensions\":[\"POINTCLOUD\"]},{\"id\":\"EXTERNAL (NOAA Coastal Lidar Data Collection)\",\"type\":\"Catalog\",\"links\":[{\"rel\":\"items\",\"type\":\"application/geo+json\",\"href\":\"http://stac-fastapi:8081/collections/EXTERNAL (NOAA Coastal Lidar Data Collection)/items\"},{\"rel\":\"parent\",\"type\":\"application/json\",\"href\":\"http://stac-fastapi:8081/\"},{\"rel\":\"root\",\"type\":\"application/json\",\"href\":\"http://stac-fastapi:8081/\"},{\"rel\":\"self\",\"type\":\"application/json\",\"href\":\"http://stac-fastapi:8081/collections/EXTERNAL (NOAA Coastal Lidar Data Collection)\"}],\"description\":\"\",\"stac_version\":\"1.0.0\"}],\"links\":[{\"rel\":\"root\",\"type\":\"application/json\",\"href\":\"http://stac-fastapi:8081/\"},{\"rel\":\"parent\",\"type\":\"application/json\",\"href\":\"http://stac-fastapi:8081/\"},{\"rel\":\"self\",\"type\":\"application/json\",\"href\":\"http://stac-fastapi:8081/collections\"}]}"
     ]
    }
   ],
   "source": [
    "!curl -X 'GET' 'http://stac-fastapi:8081/collections' -H 'accept: application/json'"
   ]
  },
  {
   "cell_type": "markdown",
   "id": "68926dec-a2f5-4c2e-b78f-a62b513e8ce0",
   "metadata": {},
   "source": [
    "## Step 3: Use Python's requests's library to make the POST request"
   ]
  },
  {
   "cell_type": "code",
   "execution_count": 4,
   "id": "6c0f2cba-5191-47cb-bcb2-78934c2e3562",
   "metadata": {
    "scrolled": true
   },
   "outputs": [
    {
     "name": "stdout",
     "output_type": "stream",
     "text": [
      "{\"id\":\"USGS_Water_Mission_Area_Data_Products_DEMO\",\"description\":\"This is a STAC collection acting as a folder for USGS Water Mission Area staff to publish data products to the ecosystem\",\"stac_version\":\"1.0.0\",\"links\":[{\"rel\":\"items\",\"type\":\"application/geo+json\",\"href\":\"http://stac-fastapi:8081/collections/USGS_Water_Mission_Area_Data_Products_DEMO/items\"},{\"rel\":\"parent\",\"type\":\"application/json\",\"href\":\"http://stac-fastapi:8081/\"},{\"rel\":\"root\",\"type\":\"application/json\",\"href\":\"http://stac-fastapi:8081/\"},{\"rel\":\"self\",\"type\":\"application/json\",\"href\":\"http://stac-fastapi:8081/collections/USGS_Water_Mission_Area_Data_Products_DEMO\"},{\"href\":\"http://stac-fastapi:8081/string\",\"rel\":\"string\",\"type\":\"image/tiff; application=geotiff\",\"title\":\"string\",\"label:assets\":\"string\",\"additionalProp1\":{}}],\"stac_extensions\":[],\"title\":\"USGS Water Mission Area Data Products DEMO\",\"type\":\"Collection\",\"assets\":{\"additionalProp1\":{\"href\":\"string\",\"type\":\"string\",\"title\":\"string\",\"description\":\"string\",\"roles\":[\"data analyst\"]}},\"license\":\"Public domain\",\"extent\":{\"spatial\":{\"bbox\":[[0.0,0.0]]},\"temporal\":{\"interval\":[[\"2024-08-06 12:00:00\",null]]}},\"keywords\":[\"organizational folder\"],\"providers\":[{\"name\":\"USGS water mission area\",\"description\":\"downstream products go in here\",\"roles\":[\"string\"],\"url\":\"string\"}]}\n"
     ]
    }
   ],
   "source": [
    "url = 'http://stac-fastapi:8081/collections'\n",
    "\n",
    "headers = {\n",
    "    'Accept': 'application/json',\n",
    "    'Content-Type': 'application/json'\n",
    "}\n",
    "\n",
    "response = requests.post(url, headers=headers, data=stac_collection_item_json)\n",
    "\n",
    "# Print the response from the server\n",
    "print(response.text)"
   ]
  },
  {
   "cell_type": "markdown",
   "id": "fe872668-65b3-4e36-801a-6db9a06808a7",
   "metadata": {},
   "source": [
    "## Step 4: Confirm that the collection was added by making a GET request for the list of collections\n",
    "\n",
    "* Or just visit the stac-browser GUI and refresh to see the newly created collection"
   ]
  },
  {
   "cell_type": "code",
   "execution_count": 5,
   "id": "df2d4af3-047d-4e68-b1e3-cd9d3239ac72",
   "metadata": {},
   "outputs": [
    {
     "name": "stdout",
     "output_type": "stream",
     "text": [
      "{\"collections\":[{\"id\":\"USGS 3DEP LiDAR Point Clouds\",\"type\":\"Catalog\",\"links\":[{\"rel\":\"items\",\"type\":\"application/geo+json\",\"href\":\"http://stac-fastapi:8081/collections/USGS 3DEP LiDAR Point Clouds/items\"},{\"rel\":\"parent\",\"type\":\"application/json\",\"href\":\"http://stac-fastapi:8081/\"},{\"rel\":\"root\",\"type\":\"application/json\",\"href\":\"http://stac-fastapi:8081/\"},{\"rel\":\"self\",\"type\":\"application/json\",\"href\":\"http://stac-fastapi:8081/collections/USGS 3DEP LiDAR Point Clouds\"}],\"description\":\"A catalog of USGS 3DEP Lidar hosted on AWS s3.\",\"stac_version\":\"1.0.0\",\"stac_extensions\":[\"POINTCLOUD\"]},{\"id\":\"EXTERNAL (NOAA Coastal Lidar Data Collection)\",\"type\":\"Catalog\",\"links\":[{\"rel\":\"items\",\"type\":\"application/geo+json\",\"href\":\"http://stac-fastapi:8081/collections/EXTERNAL (NOAA Coastal Lidar Data Collection)/items\"},{\"rel\":\"parent\",\"type\":\"application/json\",\"href\":\"http://stac-fastapi:8081/\"},{\"rel\":\"root\",\"type\":\"application/json\",\"href\":\"http://stac-fastapi:8081/\"},{\"rel\":\"self\",\"type\":\"application/json\",\"href\":\"http://stac-fastapi:8081/collections/EXTERNAL (NOAA Coastal Lidar Data Collection)\"}],\"description\":\"\",\"stac_version\":\"1.0.0\"},{\"id\":\"USGS_Water_Mission_Area_Data_Products_DEMO\",\"type\":\"Collection\",\"links\":[{\"rel\":\"items\",\"type\":\"application/geo+json\",\"href\":\"http://stac-fastapi:8081/collections/USGS_Water_Mission_Area_Data_Products_DEMO/items\"},{\"rel\":\"parent\",\"type\":\"application/json\",\"href\":\"http://stac-fastapi:8081/\"},{\"rel\":\"root\",\"type\":\"application/json\",\"href\":\"http://stac-fastapi:8081/\"},{\"rel\":\"self\",\"type\":\"application/json\",\"href\":\"http://stac-fastapi:8081/collections/USGS_Water_Mission_Area_Data_Products_DEMO\"},{\"rel\":\"string\",\"href\":\"http://stac-fastapi:8081/string\",\"type\":\"image/tiff; application=geotiff\",\"title\":\"string\",\"label:assets\":\"string\",\"additionalProp1\":{}}],\"title\":\"USGS Water Mission Area Data Products DEMO\",\"assets\":{\"additionalProp1\":{\"href\":\"string\",\"type\":\"string\",\"roles\":[\"data analyst\"],\"title\":\"string\",\"description\":\"string\"}},\"extent\":{\"spatial\":{\"bbox\":[[0.0,0.0]]},\"temporal\":{\"interval\":[[\"2024-08-06 12:00:00\",null]]}},\"license\":\"Public domain\",\"keywords\":[\"organizational folder\"],\"providers\":[{\"url\":\"string\",\"name\":\"USGS water mission area\",\"roles\":[\"string\"],\"description\":\"downstream products go in here\"}],\"description\":\"This is a STAC collection acting as a folder for USGS Water Mission Area staff to publish data products to the ecosystem\",\"stac_version\":\"1.0.0\",\"stac_extensions\":[]}],\"links\":[{\"rel\":\"root\",\"type\":\"application/json\",\"href\":\"http://stac-fastapi:8081/\"},{\"rel\":\"parent\",\"type\":\"application/json\",\"href\":\"http://stac-fastapi:8081/\"},{\"rel\":\"self\",\"type\":\"application/json\",\"href\":\"http://stac-fastapi:8081/collections\"}]}"
     ]
    }
   ],
   "source": [
    "!curl -X 'GET' 'http://stac-fastapi:8081/collections' -H 'accept: application/json'"
   ]
  },
  {
   "cell_type": "markdown",
   "id": "154257c2-31ab-4ae5-bae5-1f854a628392",
   "metadata": {},
   "source": [
    "## Step 5: (Optional) Delete the collection we just created\n",
    "\n",
    "Pass a reference to the id of the collection we just created"
   ]
  },
  {
   "cell_type": "code",
   "execution_count": 6,
   "id": "11ad5a96-d128-4a21-90b8-fe9f10edd44a",
   "metadata": {},
   "outputs": [
    {
     "name": "stdout",
     "output_type": "stream",
     "text": [
      "{\"deleted collection\":\"USGS_Water_Mission_Area_Data_Products_DEMO\"}"
     ]
    }
   ],
   "source": [
    "!curl -X 'DELETE' 'http://stac-fastapi:8081/collections/USGS_Water_Mission_Area_Data_Products_DEMO' -H 'accept: application/json'"
   ]
  }
 ],
 "metadata": {
  "kernelspec": {
   "display_name": "Python 3 (ipykernel)",
   "language": "python",
   "name": "python3"
  },
  "language_info": {
   "codemirror_mode": {
    "name": "ipython",
    "version": 3
   },
   "file_extension": ".py",
   "mimetype": "text/x-python",
   "name": "python",
   "nbconvert_exporter": "python",
   "pygments_lexer": "ipython3",
   "version": "3.11.9"
  }
 },
 "nbformat": 4,
 "nbformat_minor": 5
}
