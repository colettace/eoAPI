{
 "cells": [
  {
   "cell_type": "code",
   "execution_count": null,
   "metadata": {},
   "outputs": [],
   "source": [
    "import json\n",
    "import requests\n",
    "from folium import Map, TileLayer, GeoJson\n",
    "\n",
    "endpoint = \"\""
   ]
  },
  {
   "cell_type": "code",
   "execution_count": null,
   "metadata": {},
   "outputs": [],
   "source": [
    "geojson = {\"type\": \"Feature\", \"geometry\": {\"coordinates\": [[[-87.0251, 36.2251], [-87.0251, 36.0999], [-85.4249, 36.0999], [-85.4249, 36.2251], [-87.0251, 36.2251]]], \"type\": \"Polygon\"}}\n",
    "bounds = (-87.0251, 36.0999, -85.4249, 36.2251)\n",
    "\n",
    "m = Map(\n",
    "    tiles=\"OpenStreetMap\",\n",
    "    location=((bounds[1] + bounds[3]) / 2,(bounds[0] + bounds[2]) / 2),\n",
    "    zoom_start=10\n",
    ")\n",
    "\n",
    "geo_json = GeoJson(\n",
    "    data=geojson,\n",
    "    style_function=lambda x: {\n",
    "        'opacity': 1, 'dashArray': '1', 'fillOpacity': 0, 'weight': 1\n",
    "    },\n",
    ")\n",
    "geo_json.add_to(m)\n",
    "m"
   ]
  },
  {
   "cell_type": "markdown",
   "metadata": {},
   "source": [
    "### Create Mosaic for the whole collection"
   ]
  },
  {
   "cell_type": "code",
   "execution_count": null,
   "metadata": {},
   "outputs": [],
   "source": [
    "# Register Search Query\n",
    "body = {\n",
    "    \"collections\": [\"noaa-emergency-response\"],\n",
    "    # bbox is optional but helps tilejson to restric the bounding box of the mosaic\n",
    "    \"bbox\": bounds,\n",
    "}\n",
    "\n",
    "response = requests.post(\n",
    "    f\"{endpoint}/mosaic/register\",\n",
    "    json=body,\n",
    ").json()\n",
    "print(response)"
   ]
  },
  {
   "cell_type": "code",
   "execution_count": null,
   "metadata": {},
   "outputs": [],
   "source": [
    "m = Map(\n",
    "    location=((bounds[1] + bounds[3]) / 2,(bounds[0] + bounds[2]) / 2),\n",
    "    zoom_start=12\n",
    ")\n",
    "\n",
    "# Fetch Tilejson (we HAVE TO add the asset name)\n",
    "tj_resp = requests.get(\n",
    "    response['url'],\n",
    "    params={\n",
    "        # Info to add to the tilejson response\n",
    "        \"minzoom\": 13,\n",
    "        \"maxzoom\": 20,\n",
    "        # query parameter to add to the tile URL\n",
    "        \"assets\": \"cog\",\n",
    "    }\n",
    ").json()\n",
    "print(tj_resp)\n",
    "\n",
    "geo_json = GeoJson(\n",
    "    data=geojson,\n",
    "    style_function=lambda x: {\n",
    "        'opacity': 1, 'dashArray': '1', 'fillOpacity': 0, 'weight': 1\n",
    "    },\n",
    ")\n",
    "geo_json.add_to(m)\n",
    "\n",
    "aod_layer = TileLayer(\n",
    "    tiles=tj_resp[\"tiles\"][0],\n",
    "    attr=\"Mosaic\",\n",
    "    min_zoom=13,\n",
    "    max_zoom=20,\n",
    "    max_native_zoom=20,    \n",
    ")\n",
    "aod_layer.add_to(m)\n",
    "m"
   ]
  },
  {
   "cell_type": "code",
   "execution_count": null,
   "metadata": {},
   "outputs": [],
   "source": []
  }
 ],
 "metadata": {
  "interpreter": {
   "hash": "e0a12c78cd70db9ff05ed68287a27ffcdd32788e19bdb884235a47fc6f52d8ad"
  },
  "kernelspec": {
   "display_name": "Python 3 (ipykernel)",
   "language": "python",
   "name": "python3"
  },
  "language_info": {
   "codemirror_mode": {
    "name": "ipython",
    "version": 3
   },
   "file_extension": ".py",
   "mimetype": "text/x-python",
   "name": "python",
   "nbconvert_exporter": "python",
   "pygments_lexer": "ipython3",
   "version": "3.12.2"
  }
 },
 "nbformat": 4,
 "nbformat_minor": 4
}
